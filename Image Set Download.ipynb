{
 "cells": [
  {
   "cell_type": "code",
   "execution_count": 1,
   "metadata": {},
   "outputs": [],
   "source": [
    "import requests\n",
    "import bs4"
   ]
  },
  {
   "cell_type": "code",
   "execution_count": 2,
   "metadata": {},
   "outputs": [],
   "source": [
    "#find page with required images, create a request\n",
    "result = requests.get('https://commons.wikimedia.org/w/index.php?search=sargon&title=Special%3ASearch&go=Go&ns0=1&ns6=1&ns12=1&ns14=1&ns100=1&ns106=1')"
   ]
  },
  {
   "cell_type": "code",
   "execution_count": 3,
   "metadata": {},
   "outputs": [],
   "source": [
    "#create a soup\n",
    "soup = bs4.BeautifulSoup(result.text,'lxml')"
   ]
  },
  {
   "cell_type": "code",
   "execution_count": 4,
   "metadata": {},
   "outputs": [],
   "source": [
    "#find all image class instances\n",
    "collection = soup.findAll(\"img\")"
   ]
  },
  {
   "cell_type": "code",
   "execution_count": 5,
   "metadata": {},
   "outputs": [],
   "source": [
    "#make a list of src tags (where wikimedia image uploads are located)\n",
    "tags = []\n",
    "\n",
    "for img in collection:\n",
    "    if 'src' in img.attrs:\n",
    "        tags.append(img.attrs['src'])"
   ]
  },
  {
   "cell_type": "code",
   "execution_count": 6,
   "metadata": {},
   "outputs": [
    {
     "data": {
      "text/plain": [
       "['https://upload.wikimedia.org/wikipedia/commons/thumb/3/3a/Sargon_of_Akkad_%281936%29.jpg/120px-Sargon_of_Akkad_%281936%29.jpg',\n",
       " 'https://upload.wikimedia.org/wikipedia/commons/thumb/2/2f/Sargon_of_Akkad_cartouche.jpg/79px-Sargon_of_Akkad_cartouche.jpg',\n",
       " 'https://upload.wikimedia.org/wikipedia/commons/thumb/2/24/Mask_of_Sargon_of_Akkad.jpg/120px-Mask_of_Sargon_of_Akkad.jpg',\n",
       " 'https://upload.wikimedia.org/wikipedia/commons/thumb/1/11/Sargon_of_Akkad_and_dignitaries.jpg/120px-Sargon_of_Akkad_and_dignitaries.jpg',\n",
       " 'https://upload.wikimedia.org/wikipedia/commons/thumb/b/b1/Sargon_of_Akkad_%28frontal%29.jpg/86px-Sargon_of_Akkad_%28frontal%29.jpg',\n",
       " 'https://upload.wikimedia.org/wikipedia/commons/thumb/9/94/Sargon_of_Akkad_statue.jpg/120px-Sargon_of_Akkad_statue.jpg',\n",
       " 'https://upload.wikimedia.org/wikipedia/commons/thumb/f/f2/Sargon_of_Akkad_on_his_victory_stele.jpg/85px-Sargon_of_Akkad_on_his_victory_stele.jpg',\n",
       " 'https://upload.wikimedia.org/wikipedia/commons/thumb/c/cd/Sargon_of_Akkad_%28name%29_on_his_victory_stele.jpg/120px-Sargon_of_Akkad_%28name%29_on_his_victory_stele.jpg',\n",
       " 'https://upload.wikimedia.org/wikipedia/commons/thumb/9/93/Sargon_on_his_victory_stele.jpg/120px-Sargon_on_his_victory_stele.jpg',\n",
       " 'https://upload.wikimedia.org/wikipedia/commons/thumb/3/3d/Enheduanna%2C_daughter_of_Sargon_of_Akkad.jpg/67px-Enheduanna%2C_daughter_of_Sargon_of_Akkad.jpg',\n",
       " 'https://upload.wikimedia.org/wikipedia/commons/thumb/2/29/Sargon_victory_stele_back_register.jpg/120px-Sargon_victory_stele_back_register.jpg',\n",
       " 'https://upload.wikimedia.org/wikipedia/commons/thumb/1/1e/Sargon_name_on_his_victory_stele.jpg/90px-Sargon_name_on_his_victory_stele.jpg',\n",
       " 'https://upload.wikimedia.org/wikipedia/commons/thumb/d/d6/Sargon_victory_stele_three-quarter_view.jpg/120px-Sargon_victory_stele_three-quarter_view.jpg',\n",
       " 'https://upload.wikimedia.org/wikipedia/commons/thumb/3/3f/Akkadian_official_in_the_retinue_of_Sargon_of_Akkad%2C_holding_an_axe.jpg/66px-Akkadian_official_in_the_retinue_of_Sargon_of_Akkad%2C_holding_an_axe.jpg',\n",
       " 'https://upload.wikimedia.org/wikipedia/commons/thumb/3/37/Seal_of_Shar-Kali-Sharri%2C_with_seated_deity.jpg/120px-Seal_of_Shar-Kali-Sharri%2C_with_seated_deity.jpg',\n",
       " 'https://upload.wikimedia.org/wikipedia/commons/thumb/4/49/Nabonidus_cylinder_from_Sippar_%28extract_about_Naram-Sin_and_Sargon%29.jpg/96px-Nabonidus_cylinder_from_Sippar_%28extract_about_Naram-Sin_and_Sargon%29.jpg',\n",
       " 'https://upload.wikimedia.org/wikipedia/commons/thumb/f/f1/Chronicles_of_Sargon_II%2C_Clay%2C_Khorsabad%2C_650_BC.jpg/120px-Chronicles_of_Sargon_II%2C_Clay%2C_Khorsabad%2C_650_BC.jpg',\n",
       " 'https://upload.wikimedia.org/wikipedia/commons/thumb/2/2f/Portrait_of_a_Sumerian_prisoner_on_a_victory_stele_of_Sargon_of_Akkad.jpg/100px-Portrait_of_a_Sumerian_prisoner_on_a_victory_stele_of_Sargon_of_Akkad.jpg',\n",
       " 'https://upload.wikimedia.org/wikipedia/commons/thumb/6/6b/Sargon_II_glass_jar.jpg/98px-Sargon_II_glass_jar.jpg',\n",
       " '//commons.wikimedia.org/wiki/Special:CentralAutoLogin/start?type=1x1',\n",
       " '/static/images/wikimedia-button.png',\n",
       " '/static/images/poweredby_mediawiki_88x31.png']"
      ]
     },
     "execution_count": 6,
     "metadata": {},
     "output_type": "execute_result"
    }
   ],
   "source": [
    "tags"
   ]
  },
  {
   "cell_type": "code",
   "execution_count": 10,
   "metadata": {},
   "outputs": [
    {
     "name": "stdout",
     "output_type": "stream",
     "text": [
      "19\n"
     ]
    }
   ],
   "source": [
    "#remove thumbnails identified in initial list, ensuring only images are from 'upload.wikimedia' pages\n",
    "\n",
    "for link in tags:\n",
    "    if 'upload.wikimedia' not in link:\n",
    "        tags.remove(link)\n",
    "        \n",
    "print(len(tags))"
   ]
  },
  {
   "cell_type": "code",
   "execution_count": 106,
   "metadata": {},
   "outputs": [],
   "source": [
    "#make a dictionary to allow for numbering and file naming - key is the ordinal number, value is the hyperlink\n",
    "\n",
    "link_dict = {}\n",
    "\n",
    "for x in range(0,19):\n",
    "    \n",
    "    link_dict[x] = tags[x]"
   ]
  },
  {
   "cell_type": "code",
   "execution_count": 123,
   "metadata": {},
   "outputs": [],
   "source": [
    "#iterate the retrieval of each image from the dictionary, create .jpg with the ordinal image number\n",
    "#save the image via binary code to the .jpg file\n",
    "\n",
    "for x in link_dict:\n",
    "       \n",
    "        source = requests.get(link_dict[x])\n",
    "        f = open(f'Sargon Picture {x+1}.jpg','wb')\n",
    "        f.write(source.content)\n",
    "        f.close()"
   ]
  },
  {
   "cell_type": "code",
   "execution_count": 17,
   "metadata": {},
   "outputs": [],
   "source": [
    "#a list of 19 images has been generated, from the wikimedia page for 'Sargon'"
   ]
  },
  {
   "cell_type": "code",
   "execution_count": null,
   "metadata": {},
   "outputs": [],
   "source": []
  }
 ],
 "metadata": {
  "kernelspec": {
   "display_name": "Python 3",
   "language": "python",
   "name": "python3"
  },
  "language_info": {
   "codemirror_mode": {
    "name": "ipython",
    "version": 3
   },
   "file_extension": ".py",
   "mimetype": "text/x-python",
   "name": "python",
   "nbconvert_exporter": "python",
   "pygments_lexer": "ipython3",
   "version": "3.7.3"
  }
 },
 "nbformat": 4,
 "nbformat_minor": 2
}
